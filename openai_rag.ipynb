{
 "cells": [
  {
   "cell_type": "code",
   "execution_count": 5,
   "metadata": {},
   "outputs": [
    {
     "name": "stdout",
     "output_type": "stream",
     "text": [
      "Response: 마지 여행사에서는 다양한 여행지를 제공하고 있습니다. 다음은 주요 여행지 목록입니다:\n",
      "\n",
      "1. **두바이 (Dubai)**: 두바이는 현대적인 건축물과 역사적인 명소가 조화를 이루는 도시로, 다양한 관광 명소가 있습니다 [doc2].\n",
      "\n",
      "2. **샌프란시스코 (San Francisco)**: 샌프란시스코는 독특한 문화와 아름다운 경관이 매력적인 도시입니다. 관광지로는 금문교와 알카트라즈 섬 등이 있습니다 [doc3].\n",
      "\n",
      "3. **라스베이거스 (Las Vegas)**: 라스베이거스는 세계적으로 유명한 엔터테인먼트와 카지노의 중심지로, 다양한 공연과 액티비티가 제공됩니다 [doc4].\n",
      "\n",
      "4. **뉴욕 (New York)**: 뉴욕은 다양한 문화와 관광 명소가 있는 도시로, 타임스퀘어와 센트럴파크 등 유명한 명소가 있습니다 [doc5].\n",
      "\n",
      "이 외에도 마지 여행사는 다양한 여행지를 소개하고 있으며, 고객의 요구에 맞춘 맞춤형 여행 패키지도 제공합니다 .\n"
     ]
    }
   ],
   "source": [
    "import os\n",
    "from dotenv import load_dotenv\n",
    "from openai import AzureOpenAI\n",
    "\n",
    "# .env 파일에서 환경 변수 불러오기\n",
    "load_dotenv()\n",
    "\n",
    "endpoint = os.getenv(\"ENDPOINT_URL\")\n",
    "deployment = os.getenv(\"DEPLOYMENT_NAME\")\n",
    "search_endpoint = os.getenv(\"SEARCH_ENDPOINT\")\n",
    "search_key = os.getenv(\"SEARCH_KEY\")\n",
    "search_index = os.getenv(\"SEARCH_INDEX_NAME\")\n",
    "subscription_key = os.getenv(\"AZURE_OPENAI_API_KEY\")\n",
    "\n",
    "# 키 기반 인증을 사용하여 Azure OpenAI 클라이언트 초기화\n",
    "client = AzureOpenAI(\n",
    "    azure_endpoint=endpoint,\n",
    "    api_key=subscription_key,\n",
    "    api_version=\"2025-01-01-preview\",\n",
    ")\n",
    "\n",
    "prompt = \"마지 여행사에서 제공하는 여행지는 어떤게 있어?\"\n",
    "\n",
    "chat_prompt = [\n",
    "    {\n",
    "        \"role\": \"system\",\n",
    "        \"content\": \"너는 마지여행사의 여행전문가야.\"\n",
    "    },\n",
    "    {\n",
    "        \"role\": \"user\",\n",
    "        \"content\": prompt\n",
    "    }\n",
    "]\n",
    "\n",
    "completion = client.chat.completions.create(\n",
    "    model=deployment,\n",
    "    messages=chat_prompt,\n",
    "    max_tokens=800,\n",
    "    temperature=0.8,\n",
    "    top_p=0.95,\n",
    "    extra_body={\n",
    "        \"data_sources\": [{\n",
    "            \"type\": \"azure_search\",\n",
    "            \"parameters\": {\n",
    "                \"endpoint\": search_endpoint,\n",
    "                \"index_name\": search_index,\n",
    "                \"semantic_configuration\": \"1sesac000-margeis-index-semantic-configuration\",\n",
    "                \"query_type\": \"semantic\",\n",
    "                \"strictness\": 2,\n",
    "                \"top_n_documents\": 5,\n",
    "                \"authentication\": {\n",
    "                    \"type\": \"api_key\",\n",
    "                    \"key\": search_key\n",
    "                }\n",
    "            }\n",
    "        }]\n",
    "    }\n",
    ")\n",
    "\n",
    "response = completion\n",
    "print(\"Response: \" + response.choices[0].message.content)\n"
   ]
  },
  {
   "cell_type": "code",
   "execution_count": null,
   "metadata": {},
   "outputs": [],
   "source": [
    "citations = response.choices[0].message.context['citations']\n",
    "citations"
   ]
  },
  {
   "cell_type": "code",
   "execution_count": null,
   "metadata": {},
   "outputs": [],
   "source": [
    "for c in citations:\n",
    "    print(c['title'])"
   ]
  }
 ],
 "metadata": {
  "kernelspec": {
   "display_name": "py313",
   "language": "python",
   "name": "python3"
  },
  "language_info": {
   "codemirror_mode": {
    "name": "ipython",
    "version": 3
   },
   "file_extension": ".py",
   "mimetype": "text/x-python",
   "name": "python",
   "nbconvert_exporter": "python",
   "pygments_lexer": "ipython3",
   "version": "3.13.2"
  }
 },
 "nbformat": 4,
 "nbformat_minor": 2
}
